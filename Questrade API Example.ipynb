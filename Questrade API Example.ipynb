{
 "cells": [
  {
   "cell_type": "markdown",
   "id": "76af26d1-d6ab-467b-a990-185d4d577590",
   "metadata": {},
   "source": [
    "# Questrade API Example"
   ]
  },
  {
   "cell_type": "markdown",
   "id": "46f44383-0697-4559-bc82-fc6079b058f1",
   "metadata": {},
   "source": [
    "API Links\n",
    "- https://www.questrade.com/api/documentation/getting-started\n",
    "\n",
    "Python Links\n",
    "- https://requests.readthedocs.io/en/latest/\n",
    "- https://requests-oauthlib.readthedocs.io/en/latest/api.html?highlight=fetch_token#oauth-2-0-session\n",
    "- https://realpython.com/python-api\n",
    "\n",
    "Ideas\n",
    "- Adjust stock prices for inflation\n",
    "- Add visualization to compare portfolio to market\n",
    "- Generate fake portfolios and returns\n",
    "- Automated trading program (faster, no emotions)"
   ]
  },
  {
   "cell_type": "code",
   "execution_count": 1,
   "id": "fcd48dd2-3bee-4969-a9c6-87a37709d947",
   "metadata": {},
   "outputs": [],
   "source": [
    "import pprint\n",
    "import requests\n",
    "from requests_oauthlib import OAuth2Session\n",
    "from urllib.parse import urljoin"
   ]
  },
  {
   "cell_type": "markdown",
   "id": "8d05e8f1-beb6-4e58-b616-dfe85a99c42a",
   "metadata": {},
   "source": [
    "## Get Questrade API Data"
   ]
  },
  {
   "cell_type": "markdown",
   "id": "c64afae2-5a6d-485d-8aa4-b14a50382ef9",
   "metadata": {},
   "source": [
    "### Set up OAuth2 session"
   ]
  },
  {
   "cell_type": "code",
   "execution_count": 2,
   "id": "362d0ca9-0a30-45de-a894-fa2d24d905bd",
   "metadata": {},
   "outputs": [],
   "source": [
    "token = {\n",
    "    \"access_token\": \"AQe1fAItV2E5BsmnHMN6M9HG6CCEgckG0\",\n",
    "    \"api_server\": \"https://api01.iq.questrade.com/\",\n",
    "    \"expires_in\": 1800,\n",
    "    \"refresh_token\": \"cz-tuua7D98nGpqVuwhXF_QCz2a0gT_o0\",\n",
    "    \"token_type\": \"Bearer\"\n",
    "}\n",
    "refresh_url = 'https://login.questrade.com/oauth2/token'\n",
    "\n",
    "def token_saver(new_token):\n",
    "    token = new_token"
   ]
  },
  {
   "cell_type": "code",
   "execution_count": 3,
   "id": "cf56c373-0f67-405c-8a66-d322c30c8bb2",
   "metadata": {},
   "outputs": [],
   "source": [
    "client = OAuth2Session(token=token, auto_refresh_url=refresh_url, token_updater=token_saver)"
   ]
  },
  {
   "cell_type": "markdown",
   "id": "9ffcdf7e-f34a-4c60-a6ab-4bd844690bb6",
   "metadata": {},
   "source": [
    "### Get account"
   ]
  },
  {
   "cell_type": "code",
   "execution_count": 4,
   "id": "02ac2ce9-e7fa-4deb-8c7b-3e26e26081dd",
   "metadata": {},
   "outputs": [
    {
     "name": "stdout",
     "output_type": "stream",
     "text": [
      "Questrade Accounts Endpoint: https://api01.iq.questrade.com/v1/accounts\n"
     ]
    }
   ],
   "source": [
    "questrade_api = 'https://api01.iq.questrade.com/'\n",
    "accounts_route = 'v1/accounts'\n",
    "questrade_accounts_endpoint = urljoin(questrade_api, accounts_route)\n",
    "\n",
    "print(f'Questrade Accounts Endpoint: {questrade_accounts_endpoint}')"
   ]
  },
  {
   "cell_type": "code",
   "execution_count": 5,
   "id": "4f8b168d-5b44-4222-9275-85f9b06bcc37",
   "metadata": {},
   "outputs": [],
   "source": [
    "def get_questrade_data(endpoint, params=None):\n",
    "    \"\"\"\n",
    "    Gets data from the Questrade API given an endpoint and parameters.\n",
    "    \n",
    "    Parameters:\n",
    "        endpoint (string): A Questrade API URI\n",
    "        params (dictionary): A map of parameters to values for building the query string\n",
    "    \n",
    "    Returns:\n",
    "        data (dictionary): The Questrade API response\n",
    "    \"\"\"\n",
    "    response = client.get(endpoint, params=params)\n",
    "    response.raise_for_status()\n",
    "    data = response.json()\n",
    "    \n",
    "    return data"
   ]
  },
  {
   "cell_type": "code",
   "execution_count": 6,
   "id": "e7949269-fa6e-4439-969a-e0cc4b23931e",
   "metadata": {},
   "outputs": [
    {
     "name": "stdout",
     "output_type": "stream",
     "text": [
      "{'accounts': [{'clientAccountType': 'Individual',\n",
      "               'isBilling': True,\n",
      "               'isPrimary': True,\n",
      "               'number': '27218777',\n",
      "               'status': 'Active',\n",
      "               'type': 'Margin'},\n",
      "              {'clientAccountType': 'Individual',\n",
      "               'isBilling': False,\n",
      "               'isPrimary': False,\n",
      "               'number': '52831098',\n",
      "               'status': 'Active',\n",
      "               'type': 'TFSA'}],\n",
      " 'userId': 659104}\n"
     ]
    }
   ],
   "source": [
    "account_data = get_questrade_data(questrade_accounts_endpoint)\n",
    "\n",
    "pp = pprint.PrettyPrinter()\n",
    "pp.pprint(account_data)"
   ]
  },
  {
   "cell_type": "markdown",
   "id": "977ea8ec-b29e-47f2-951c-313f395a799c",
   "metadata": {},
   "source": [
    "### Get account positions"
   ]
  },
  {
   "cell_type": "code",
   "execution_count": 7,
   "id": "d899c10b-6a02-485d-b65f-13eacd705c99",
   "metadata": {},
   "outputs": [
    {
     "name": "stdout",
     "output_type": "stream",
     "text": [
      "27218777\n"
     ]
    }
   ],
   "source": [
    "account_number = account_data['accounts'][0]['number']\n",
    "print(account_number)"
   ]
  },
  {
   "cell_type": "code",
   "execution_count": 8,
   "id": "6ee22a79-c175-4f5b-944c-6376296121e5",
   "metadata": {},
   "outputs": [
    {
     "name": "stdout",
     "output_type": "stream",
     "text": [
      "Questrade Accounts Positions Endpoint: https://api01.iq.questrade.com/v1/accounts/27218777/positions\n"
     ]
    }
   ],
   "source": [
    "account_positions_route = f'accounts/{account_number}/positions'\n",
    "account_positions_endpoint = urljoin(questrade_accounts_endpoint, account_positions_route)\n",
    "\n",
    "print(f'Questrade Accounts Positions Endpoint: {account_positions_endpoint}')"
   ]
  },
  {
   "cell_type": "code",
   "execution_count": 9,
   "id": "a9f81dbb-a3eb-4a40-aea2-d6b5f96f7f1c",
   "metadata": {},
   "outputs": [
    {
     "name": "stdout",
     "output_type": "stream",
     "text": [
      "{'positions': [{'averageEntryPrice': 29.487776,\n",
      "                'closedPnl': 0,\n",
      "                'closedQuantity': 0,\n",
      "                'currentMarketValue': 32961.76,\n",
      "                'currentPrice': 27.56,\n",
      "                'dayPnl': 107.64,\n",
      "                'isRealTime': False,\n",
      "                'isUnderReorg': False,\n",
      "                'openPnl': -2305.620096,\n",
      "                'openQuantity': 1196,\n",
      "                'symbol': 'VGRO.TO',\n",
      "                'symbolId': 20364222,\n",
      "                'totalCost': 35267.380096}]}\n"
     ]
    }
   ],
   "source": [
    "account_positions_data = get_questrade_data(account_positions_endpoint)\n",
    "\n",
    "pp.pprint(account_positions_data)"
   ]
  },
  {
   "cell_type": "markdown",
   "id": "de0a978f-79f8-4f35-8d79-55de365ad33a",
   "metadata": {},
   "source": [
    "### Get market symbol"
   ]
  },
  {
   "cell_type": "code",
   "execution_count": 10,
   "id": "3decff6c-0e79-4057-b90a-8f24e5dcd9ee",
   "metadata": {},
   "outputs": [
    {
     "name": "stdout",
     "output_type": "stream",
     "text": [
      "Questrade Symbols Search Endpoint: https://api01.iq.questrade.com/v1/symbols/search\n"
     ]
    }
   ],
   "source": [
    "symbols_search_route = 'v1/symbols/search'\n",
    "questrade_symbols_search_endpoint = urljoin(questrade_api, symbols_search_route)\n",
    "\n",
    "print(f'Questrade Symbols Search Endpoint: {questrade_symbols_search_endpoint}')"
   ]
  },
  {
   "cell_type": "code",
   "execution_count": 11,
   "id": "4674e3a2-ff54-4ca4-b1c1-2d7ec1a175b5",
   "metadata": {},
   "outputs": [
    {
     "name": "stdout",
     "output_type": "stream",
     "text": [
      "{'symbols': [{'currency': 'USD',\n",
      "              'description': 'APPLE INC',\n",
      "              'isQuotable': True,\n",
      "              'isTradable': True,\n",
      "              'listingExchange': 'NASDAQ',\n",
      "              'securityType': 'Stock',\n",
      "              'symbol': 'AAPL',\n",
      "              'symbolId': 8049},\n",
      "             {'currency': 'CAD',\n",
      "              'description': 'APPLE CDR (CAD HEDGED)',\n",
      "              'isQuotable': True,\n",
      "              'isTradable': True,\n",
      "              'listingExchange': 'NEO',\n",
      "              'securityType': 'Stock',\n",
      "              'symbol': 'AAPL.TO',\n",
      "              'symbolId': 39472334},\n",
      "             {'currency': 'USD',\n",
      "              'description': 'AAPL Alpha Index',\n",
      "              'isQuotable': True,\n",
      "              'isTradable': False,\n",
      "              'listingExchange': 'NASDAQI',\n",
      "              'securityType': 'Index',\n",
      "              'symbol': 'AVSPY.IN',\n",
      "              'symbolId': 28301},\n",
      "             {'currency': 'CAD',\n",
      "              'description': 'APPLE CDR (CAD HEDGED)',\n",
      "              'isQuotable': False,\n",
      "              'isTradable': False,\n",
      "              'listingExchange': 'NEO',\n",
      "              'securityType': 'Stock',\n",
      "              'symbol': 'AAPL.TO',\n",
      "              'symbolId': 37727146},\n",
      "             {'currency': 'USD',\n",
      "              'description': 'ICE Leveraged 2x AAPL Index',\n",
      "              'isQuotable': True,\n",
      "              'isTradable': False,\n",
      "              'listingExchange': 'NYSEGIF',\n",
      "              'securityType': 'Index',\n",
      "              'symbol': 'NY2LAAPL.IN',\n",
      "              'symbolId': 19786673},\n",
      "             {'currency': 'USD',\n",
      "              'description': 'WTS JPMORGAN CHASE BANK N A WTS REG S ON SHS '\n",
      "                             'AAPLE INC',\n",
      "              'isQuotable': False,\n",
      "              'isTradable': False,\n",
      "              'listingExchange': '',\n",
      "              'securityType': 'Right',\n",
      "              'symbol': 'J008303.90',\n",
      "              'symbolId': 943205}]}\n"
     ]
    }
   ],
   "source": [
    "symbol = 'AAPL'\n",
    "symbols_data = get_questrade_data(questrade_symbols_search_endpoint, params={'prefix': symbol})\n",
    "\n",
    "pp.pprint(symbols_data)"
   ]
  },
  {
   "cell_type": "code",
   "execution_count": 12,
   "id": "f4bd8de7-f8a1-421e-9855-3fa8cb6ee833",
   "metadata": {},
   "outputs": [
    {
     "name": "stdout",
     "output_type": "stream",
     "text": [
      "Questrade Symbols Endpoint: https://api01.iq.questrade.com/v1/symbols/8049\n"
     ]
    }
   ],
   "source": [
    "id = 8049\n",
    "symbols_id_route = f'v1/symbols/{id}'\n",
    "questrade_symbols_id_endpoint = urljoin(questrade_api, symbols_id_route)\n",
    "\n",
    "print(f'Questrade Symbols Endpoint: {questrade_symbols_id_endpoint}')"
   ]
  },
  {
   "cell_type": "code",
   "execution_count": 13,
   "id": "49953e6b-c97a-4c98-9769-ffdcf8494041",
   "metadata": {},
   "outputs": [
    {
     "name": "stdout",
     "output_type": "stream",
     "text": [
      "{'symbols': [{'averageVol20Days': 89790725,\n",
      "              'averageVol3Months': 96199235,\n",
      "              'currency': 'USD',\n",
      "              'description': 'APPLE INC',\n",
      "              'dividend': 0.23,\n",
      "              'dividendDate': '2022-05-12T00:00:00.000000-04:00',\n",
      "              'eps': 6.15,\n",
      "              'exDate': '2022-05-06T00:00:00.000000-04:00',\n",
      "              'hasOptions': True,\n",
      "              'highPrice52': 182.94,\n",
      "              'industryGroup': 'Undefined',\n",
      "              'industrySector': 'Technology',\n",
      "              'industrySubgroup': 'Undefined',\n",
      "              'isQuotable': True,\n",
      "              'isTradable': True,\n",
      "              'listingExchange': 'NASDAQ',\n",
      "              'lowPrice52': 129.04,\n",
      "              'marketCap': 2199080542500,\n",
      "              'minTicks': [{'minTick': 0.0001, 'pivot': 0},\n",
      "                           {'minTick': 0.01, 'pivot': 1}],\n",
      "              'optionContractDeliverables': {'cashInLieu': 0,\n",
      "                                             'underlyings': []},\n",
      "              'optionDurationType': None,\n",
      "              'optionExerciseType': None,\n",
      "              'optionExpiryDate': None,\n",
      "              'optionRoot': '',\n",
      "              'optionStrikePrice': None,\n",
      "              'optionType': None,\n",
      "              'outstandingShares': 16185180000,\n",
      "              'pe': 22.09268,\n",
      "              'prevDayClosePrice': 135.35,\n",
      "              'securityType': 'Stock',\n",
      "              'symbol': 'AAPL',\n",
      "              'symbolId': 8049,\n",
      "              'tradeUnit': 1,\n",
      "              'yield': 0.67712}]}\n"
     ]
    }
   ],
   "source": [
    "symbol_id_data = get_questrade_data(questrade_symbols_id_endpoint)\n",
    "\n",
    "pp.pprint(symbol_id_data)"
   ]
  },
  {
   "cell_type": "code",
   "execution_count": null,
   "id": "39178ebb-9e6f-4528-8917-22bfbd43030c",
   "metadata": {},
   "outputs": [],
   "source": []
  }
 ],
 "metadata": {
  "kernelspec": {
   "display_name": "Python 3.7.5 64-bit",
   "language": "python",
   "name": "python37564bit4d9d7ed176634023b5e2d9fe7b5b2704"
  },
  "language_info": {
   "codemirror_mode": {
    "name": "ipython",
    "version": 3
   },
   "file_extension": ".py",
   "mimetype": "text/x-python",
   "name": "python",
   "nbconvert_exporter": "python",
   "pygments_lexer": "ipython3",
   "version": "3.7.5"
  }
 },
 "nbformat": 4,
 "nbformat_minor": 5
}
